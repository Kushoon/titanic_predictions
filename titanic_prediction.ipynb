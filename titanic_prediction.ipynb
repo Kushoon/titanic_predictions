{
 "cells": [
  {
   "cell_type": "code",
   "execution_count": 25,
   "id": "6217cc7f-5e70-4faf-a585-de3d97141b15",
   "metadata": {},
   "outputs": [],
   "source": [
    "# Import libraries\n",
    "import numpy as np\n",
    "import pandas as pd\n",
    "import matplotlib.pyplot as plt"
   ]
  },
  {
   "cell_type": "code",
   "execution_count": 26,
   "id": "a47d1959-98eb-44ec-8a7e-5827190f94f0",
   "metadata": {},
   "outputs": [],
   "source": [
    "# Import the dataset\n",
    "dataset = pd.read_csv('titanic_prediction.csv')\n",
    "X = dataset.iloc[:,:-1].values\n",
    "y = dataset.iloc[:,-1].values"
   ]
  },
  {
   "cell_type": "code",
   "execution_count": 27,
   "id": "519b5e49-7df6-4a9d-afcc-eb5f1e5d9cc9",
   "metadata": {},
   "outputs": [],
   "source": [
    "# Replace null values in Age and Fare column\n",
    "from sklearn.impute import SimpleImputer\n",
    "imputer = SimpleImputer(missing_values=np.nan, strategy='mean')\n",
    "imputer.fit(X[:,2:])\n",
    "X[:,2:] = imputer.transform(X[:,2:])"
   ]
  },
  {
   "cell_type": "code",
   "execution_count": 28,
   "id": "f023d196-f76d-4c7c-8cc3-da8993399ac4",
   "metadata": {},
   "outputs": [],
   "source": [
    "# Label encode the male and female values\n",
    "# no need to encode y as its already in 0 and 1\n",
    "from sklearn.preprocessing import LabelEncoder\n",
    "le = LabelEncoder()\n",
    "X[:,1] = le.fit_transform(X[:,1])"
   ]
  },
  {
   "cell_type": "code",
   "execution_count": 29,
   "id": "55720a02-789f-4229-9256-a677c75f8995",
   "metadata": {},
   "outputs": [
    {
     "name": "stdout",
     "output_type": "stream",
     "text": [
      "[[3 1 34.5 7.8292]\n",
      " [3 0 47.0 7.0]\n",
      " [2 1 62.0 9.6875]\n",
      " ...\n",
      " [3 1 38.5 7.25]\n",
      " [3 1 30.272590361445783 8.05]\n",
      " [3 1 30.272590361445783 22.3583]]\n"
     ]
    }
   ],
   "source": [
    "print(X)"
   ]
  },
  {
   "cell_type": "code",
   "execution_count": 30,
   "id": "edbc301d-f57e-451e-8340-11b9edc710ad",
   "metadata": {},
   "outputs": [],
   "source": [
    "# Split the dataset into testing and training\n",
    "from sklearn.model_selection import train_test_split\n",
    "X_train, X_test, y_train, y_test = train_test_split(X, y, test_size=0.3, random_state=0)"
   ]
  },
  {
   "cell_type": "code",
   "execution_count": 39,
   "id": "5933d4c7-a723-47f8-a460-81812afcc574",
   "metadata": {},
   "outputs": [],
   "source": [
    "# Apply feature scaling on pclass, age and fare\n",
    "from sklearn.preprocessing import StandardScaler\n",
    "sc = StandardScaler()\n",
    "X_train[:,0:] = sc.fit_transform(X_train[:,0:])\n",
    "\n",
    "X_test[:,0:] = sc.fit_transform(X_test[:,0:])"
   ]
  },
  {
   "cell_type": "code",
   "execution_count": 40,
   "id": "8cf7dc7b-ecb2-4827-aae9-876186e71529",
   "metadata": {},
   "outputs": [
    {
     "data": {
      "text/plain": [
       "SVC(gamma='auto', kernel='linear')"
      ]
     },
     "execution_count": 40,
     "metadata": {},
     "output_type": "execute_result"
    }
   ],
   "source": [
    "# Train the model using SVC - as its a classification problem\n",
    "from sklearn.svm import SVC\n",
    "classifier = SVC(kernel='linear', gamma='auto')\n",
    "classifier.fit(X_train, y_train)"
   ]
  },
  {
   "cell_type": "code",
   "execution_count": 43,
   "id": "85e369da-0572-4de1-97c5-d19b7fbd74da",
   "metadata": {},
   "outputs": [
    {
     "name": "stdout",
     "output_type": "stream",
     "text": [
      "[1]\n"
     ]
    }
   ],
   "source": [
    "# Predict a result\n",
    "print(classifier.predict(sc.transform([[3, 0, 47, 7]])))"
   ]
  },
  {
   "cell_type": "code",
   "execution_count": 44,
   "id": "102cbd33-a659-4a79-9653-465b6fa55969",
   "metadata": {},
   "outputs": [],
   "source": [
    "# Predict the test set\n",
    "y_pred = classifier.predict(X_test)"
   ]
  },
  {
   "cell_type": "code",
   "execution_count": 45,
   "id": "165e5bc4-c2dc-4004-a37d-544ab3dd6916",
   "metadata": {},
   "outputs": [
    {
     "name": "stdout",
     "output_type": "stream",
     "text": [
      "[[71  0]\n",
      " [ 0 55]]\n"
     ]
    },
    {
     "data": {
      "text/plain": [
       "1.0"
      ]
     },
     "execution_count": 45,
     "metadata": {},
     "output_type": "execute_result"
    }
   ],
   "source": [
    "# Compare y_pred and y_test\n",
    "from sklearn.metrics import confusion_matrix, accuracy_score\n",
    "print(confusion_matrix(y_test, y_pred))\n",
    "accuracy_score(y_test, y_pred)"
   ]
  },
  {
   "cell_type": "code",
   "execution_count": null,
   "id": "057bcd9e-e675-4a34-af03-98ce740a8b80",
   "metadata": {},
   "outputs": [],
   "source": []
  }
 ],
 "metadata": {
  "kernelspec": {
   "display_name": "Python 3",
   "language": "python",
   "name": "python3"
  },
  "language_info": {
   "codemirror_mode": {
    "name": "ipython",
    "version": 3
   },
   "file_extension": ".py",
   "mimetype": "text/x-python",
   "name": "python",
   "nbconvert_exporter": "python",
   "pygments_lexer": "ipython3",
   "version": "3.8.8"
  }
 },
 "nbformat": 4,
 "nbformat_minor": 5
}
